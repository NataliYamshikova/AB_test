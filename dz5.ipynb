{
 "cells": [
  {
   "cell_type": "code",
   "execution_count": 1,
   "metadata": {},
   "outputs": [],
   "source": [
    "import numpy as np\n",
    "import statsmodels.stats.proportion as smp"
   ]
  },
  {
   "cell_type": "markdown",
   "metadata": {},
   "source": [
    "Задание1"
   ]
  },
  {
   "cell_type": "code",
   "execution_count": 2,
   "metadata": {},
   "outputs": [
    {
     "name": "stdout",
     "output_type": "stream",
     "text": [
      "-3.253054722696254\n",
      "0.001141715077067056\n"
     ]
    }
   ],
   "source": [
    "alpha = 0.05\n",
    "# число успехов в каждой группе\n",
    "successes = np.array([164, 228])\n",
    "\n",
    "# число наблюдений в каждой группе\n",
    "nobs = np.array([15550, 15550])\n",
    "\n",
    "# пропорции успехов в каждой группе\n",
    "proportions = successes / nobs\n",
    "\n",
    "# z-статистика и p-значение\n",
    "zstat, pvalue = smp.proportions_ztest(count=successes, nobs=nobs, value=0, alternative='two-sided')\n",
    "print(zstat)\n",
    "print(pvalue)"
   ]
  },
  {
   "cell_type": "markdown",
   "metadata": {},
   "source": [
    "На основе z-статистики: -3.253054722696254 и p-value: 0.001141715077067056, можно сделать вывод о статистически значимых различиях между конверсиями в двух группах.\n",
    "\n",
    "** Рекомендации команде: на основании результатов эксперимента можно рекомендовать использовать упрощенную форму заказа в магазине Утконос, так как она приводит к более высокой конверсии в покупку. Однако, следует провести дополнительные исследования, чтобы понять, какие именно элементы формы заказа необходимо упростить, чтобы максимизировать конверсии.*"
   ]
  },
  {
   "cell_type": "markdown",
   "metadata": {},
   "source": [
    "Задание 2\n",
    "Для сравнения метрики конверсии в покупку между двумя группами с размером выборки по 10 000 элементов в каждой группе лучше всего использовать z-тест, так как объём выборки достаточно большой (больше 30), что позволяет использовать нормальное распределение для вычисления статистической значимости. T-тест Стьюдента также может использоваться в данном случае, но z-тест является более точным и надёжным при больших размерах выборки."
   ]
  }
 ],
 "metadata": {
  "kernelspec": {
   "display_name": "Python 3",
   "language": "python",
   "name": "python3"
  },
  "language_info": {
   "codemirror_mode": {
    "name": "ipython",
    "version": 3
   },
   "file_extension": ".py",
   "mimetype": "text/x-python",
   "name": "python",
   "nbconvert_exporter": "python",
   "pygments_lexer": "ipython3",
   "version": "3.11.4"
  }
 },
 "nbformat": 4,
 "nbformat_minor": 2
}
